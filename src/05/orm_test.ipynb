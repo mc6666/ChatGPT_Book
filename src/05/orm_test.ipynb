{
 "cells": [
  {
   "cell_type": "code",
   "execution_count": 4,
   "id": "93e5110a",
   "metadata": {},
   "outputs": [],
   "source": [
    "from sqlalchemy import create_engine\n",
    "from sqlalchemy.orm import Session\n",
    "from sqlalchemy import select\n",
    "from db_schema import *"
   ]
  },
  {
   "cell_type": "code",
   "execution_count": 5,
   "id": "20587111",
   "metadata": {},
   "outputs": [
    {
     "name": "stdout",
     "output_type": "stream",
     "text": [
      "2023-03-20 17:58:10,686 INFO sqlalchemy.engine.Engine BEGIN (implicit)\n",
      "2023-03-20 17:58:10,687 INFO sqlalchemy.engine.Engine PRAGMA main.table_info(\"users\")\n",
      "2023-03-20 17:58:10,687 INFO sqlalchemy.engine.Engine [raw sql] ()\n",
      "2023-03-20 17:58:10,689 INFO sqlalchemy.engine.Engine COMMIT\n"
     ]
    }
   ],
   "source": [
    "engine = create_engine(\"sqlite:///data/line_db.db\", echo=True)\n",
    "Base.metadata.create_all(engine)"
   ]
  },
  {
   "cell_type": "code",
   "execution_count": 15,
   "id": "f3bb0b36",
   "metadata": {},
   "outputs": [
    {
     "name": "stdout",
     "output_type": "stream",
     "text": [
      "2023-03-20 18:06:16,741 INFO sqlalchemy.engine.Engine BEGIN (implicit)\n",
      "2023-03-20 18:06:16,742 INFO sqlalchemy.engine.Engine SELECT users.id, users.line_id, users.display_name, users.topic \n",
      "FROM users \n",
      "WHERE users.display_name IN (?, ?)\n",
      "2023-03-20 18:06:16,742 INFO sqlalchemy.engine.Engine [generated in 0.00068s] ('user1', 'user2')\n"
     ]
    },
    {
     "data": {
      "text/plain": [
       "2"
      ]
     },
     "execution_count": 15,
     "metadata": {},
     "output_type": "execute_result"
    }
   ],
   "source": [
    "stmt = select(User).where(User.display_name.in_([\"user1\", \"user2\"]))\n",
    "session = Session(engine)\n",
    "result = session.execute(stmt)\n",
    "len(result.all())"
   ]
  },
  {
   "cell_type": "code",
   "execution_count": 25,
   "id": "2038376b",
   "metadata": {},
   "outputs": [
    {
     "name": "stdout",
     "output_type": "stream",
     "text": [
      "2023-03-20 18:15:00,089 INFO sqlalchemy.engine.Engine BEGIN (implicit)\n",
      "2023-03-20 18:15:00,090 INFO sqlalchemy.engine.Engine SELECT users.id, users.line_id, users.display_name, users.topic \n",
      "FROM users \n",
      "WHERE users.display_name = ?\n",
      "2023-03-20 18:15:00,092 INFO sqlalchemy.engine.Engine [cached since 1003s ago] ('user4',)\n",
      "2023-03-20 18:15:00,093 INFO sqlalchemy.engine.Engine INSERT INTO users (line_id, display_name, topic) VALUES (?, ?, ?)\n",
      "2023-03-20 18:15:00,093 INFO sqlalchemy.engine.Engine [cached since 34.06s ago] ('Ude0003f85858cf19238f2c5a079c9e11', 'user4', '翻譯')\n",
      "2023-03-20 18:15:00,095 INFO sqlalchemy.engine.Engine COMMIT\n"
     ]
    }
   ],
   "source": [
    "stmt = select(User).where(User.display_name == \"user4\")\n",
    "with Session(engine) as session:\n",
    "    user1 = session.scalars(stmt).one_or_none()\n",
    "    if user1 is not None:\n",
    "        user1.topic=\"翻譯\"\n",
    "    else:\n",
    "        user1 = User(\n",
    "            line_id=\"Ude0003f85858cf19238f2c5a079c9e11\",\n",
    "            display_name=\"user4\",\n",
    "            topic=\"翻譯\",\n",
    "        )\n",
    "        session.add_all([user1])\n",
    "    session.commit()        "
   ]
  },
  {
   "cell_type": "code",
   "execution_count": 21,
   "id": "ed12b616",
   "metadata": {},
   "outputs": [
    {
     "data": {
      "text/plain": [
       "0"
      ]
     },
     "execution_count": 21,
     "metadata": {},
     "output_type": "execute_result"
    }
   ],
   "source": [
    "len(result.all())"
   ]
  },
  {
   "cell_type": "code",
   "execution_count": null,
   "id": "469b42cf",
   "metadata": {},
   "outputs": [],
   "source": []
  }
 ],
 "metadata": {
  "kernelspec": {
   "display_name": "Python 3 (ipykernel)",
   "language": "python",
   "name": "python3"
  },
  "language_info": {
   "codemirror_mode": {
    "name": "ipython",
    "version": 3
   },
   "file_extension": ".py",
   "mimetype": "text/x-python",
   "name": "python",
   "nbconvert_exporter": "python",
   "pygments_lexer": "ipython3",
   "version": "3.9.13"
  }
 },
 "nbformat": 4,
 "nbformat_minor": 5
}
