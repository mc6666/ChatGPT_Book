{
 "cells": [
  {
   "cell_type": "markdown",
   "id": "b4aefc7d",
   "metadata": {},
   "source": [
    "# Text completion 測試"
   ]
  },
  {
   "cell_type": "markdown",
   "id": "b912c71d",
   "metadata": {},
   "source": [
    "## 載入套件"
   ]
  },
  {
   "cell_type": "code",
   "execution_count": 9,
   "id": "265c5584",
   "metadata": {},
   "outputs": [],
   "source": [
    "import os\n",
    "import openai\n",
    "import requests\n",
    "import os, json"
   ]
  },
  {
   "cell_type": "markdown",
   "id": "d63bafac",
   "metadata": {},
   "source": [
    "# 文本生成(Text generation)"
   ]
  },
  {
   "cell_type": "markdown",
   "id": "c75a5dbe",
   "metadata": {},
   "source": [
    "## 提示"
   ]
  },
  {
   "cell_type": "code",
   "execution_count": 10,
   "id": "8825fc64",
   "metadata": {},
   "outputs": [],
   "source": [
    "# text-davinci-003 格式\n",
    "prompt = 'Write a tagline for an ice cream shop.'\n",
    "\n",
    "# gpt-3.5 或 gpt-4 格式\n",
    "messages=[\n",
    "    {\"role\": \"system\", \"content\": \"You are a marketing expert.\"},\n",
    "    {\"role\": \"user\", \"content\": prompt}\n",
    "]"
   ]
  },
  {
   "cell_type": "markdown",
   "id": "fff55054",
   "metadata": {},
   "source": [
    "## 呼叫 text-davinci-003 API"
   ]
  },
  {
   "cell_type": "code",
   "execution_count": 11,
   "id": "288b1121",
   "metadata": {
    "scrolled": true
   },
   "outputs": [
    {
     "name": "stdout",
     "output_type": "stream",
     "text": [
      "\n",
      "\n",
      "\"Rejoice in the Sweetest of Treats!\"\n"
     ]
    }
   ],
   "source": [
    "response = openai.Completion.create(\n",
    "    model=\"text-davinci-003\",\n",
    "    prompt=prompt,\n",
    ")\n",
    "print(response.choices[0].text)"
   ]
  },
  {
   "cell_type": "markdown",
   "id": "5ad625cf",
   "metadata": {},
   "source": [
    "## 呼叫 gpt-3.5-turbo API"
   ]
  },
  {
   "cell_type": "code",
   "execution_count": 12,
   "id": "fd76d2db",
   "metadata": {},
   "outputs": [
    {
     "data": {
      "text/plain": [
       "'\"Scoops of happiness in every cone!\"'"
      ]
     },
     "execution_count": 12,
     "metadata": {},
     "output_type": "execute_result"
    }
   ],
   "source": [
    "response = openai.ChatCompletion.create(\n",
    "    model=\"gpt-3.5-turbo\",\n",
    "    messages=messages,\n",
    ")\n",
    "response.choices[0].message.content"
   ]
  },
  {
   "cell_type": "markdown",
   "id": "6877610c",
   "metadata": {},
   "source": [
    "## 呼叫 gpt-4 API"
   ]
  },
  {
   "cell_type": "code",
   "execution_count": 13,
   "id": "031d5791",
   "metadata": {},
   "outputs": [
    {
     "data": {
      "text/plain": [
       "'\"Indulge in a World of Creamy Bliss!\"'"
      ]
     },
     "execution_count": 13,
     "metadata": {},
     "output_type": "execute_result"
    }
   ],
   "source": [
    "response = openai.ChatCompletion.create(\n",
    "    model=\"gpt-4\",\n",
    "    messages=messages,\n",
    ")\n",
    "response.choices[0].message.content"
   ]
  },
  {
   "cell_type": "markdown",
   "id": "df26ebb2",
   "metadata": {},
   "source": [
    "## 測試中文問題"
   ]
  },
  {
   "cell_type": "code",
   "execution_count": 6,
   "id": "be173036",
   "metadata": {},
   "outputs": [],
   "source": [
    "prompt = '幫冰淇淋店寫一個標語'\n",
    "messages=[\n",
    "    {\"role\": \"system\", \"content\": \"你是行銷專家.\"},\n",
    "    {\"role\": \"user\", \"content\": prompt}\n",
    "]"
   ]
  },
  {
   "cell_type": "markdown",
   "id": "a621b90f",
   "metadata": {},
   "source": [
    "## 呼叫API"
   ]
  },
  {
   "cell_type": "code",
   "execution_count": 7,
   "id": "3c514392",
   "metadata": {},
   "outputs": [
    {
     "data": {
      "text/plain": [
       "'\"品嚐冰淇淋的魔力，讓您的味蕾進入天堂！\"'"
      ]
     },
     "execution_count": 7,
     "metadata": {},
     "output_type": "execute_result"
    }
   ],
   "source": [
    "response = openai.ChatCompletion.create(\n",
    "    model=\"gpt-3.5-turbo\",\n",
    "    messages=messages,\n",
    ")\n",
    "response.choices[0].message.content"
   ]
  },
  {
   "cell_type": "code",
   "execution_count": null,
   "id": "ff6e639c",
   "metadata": {},
   "outputs": [],
   "source": []
  },
  {
   "cell_type": "markdown",
   "id": "de0125ae",
   "metadata": {},
   "source": [
    "# 分類(Classification)"
   ]
  },
  {
   "cell_type": "markdown",
   "id": "5d1188eb",
   "metadata": {},
   "source": [
    "## 測試問題"
   ]
  },
  {
   "cell_type": "code",
   "execution_count": 62,
   "id": "34b76824",
   "metadata": {},
   "outputs": [
    {
     "data": {
      "text/plain": [
       "'正面情緒分析。'"
      ]
     },
     "execution_count": 62,
     "metadata": {},
     "output_type": "execute_result"
    }
   ],
   "source": [
    "prompt = '我喜歡這部蝙蝠俠電影.'\n",
    "messages=[\n",
    "    {\"role\": \"system\", \"content\": \"判斷情緒分析是正面或負面\"},\n",
    "    {\"role\": \"user\", \"content\": prompt}\n",
    "]\n",
    "\n",
    "response = openai.ChatCompletion.create(\n",
    "    model=\"gpt-3.5-turbo\",\n",
    "    messages=messages,\n",
    ")\n",
    "response.choices[0].message.content"
   ]
  },
  {
   "cell_type": "markdown",
   "id": "c4e5fe2d",
   "metadata": {},
   "source": [
    "## 多筆分析"
   ]
  },
  {
   "cell_type": "code",
   "execution_count": 63,
   "id": "0ed3f4d6",
   "metadata": {},
   "outputs": [
    {
     "name": "stdout",
     "output_type": "stream",
     "text": [
      "\n",
      "\n",
      "1. Negative\n",
      "2. Negative\n",
      "3. Positive\n",
      "4. Positive\n",
      "5. Negative\n"
     ]
    }
   ],
   "source": [
    "prompt = '''\n",
    "Classify the sentiment in these tweets:\n",
    "\n",
    "1. \"I can't stand homework\"\n",
    "2. \"This sucks. I'm bored 😠\"\n",
    "3. \"I can't wait for Halloween!!!\"\n",
    "4. \"My cat is adorable ❤️❤️\"\n",
    "5. \"I hate chocolate\"\n",
    "\n",
    "Tweet sentiment ratings:\n",
    "'''\n",
    "\n",
    "task = \"Decide whether a Tweet's sentiment is positive, neutral, or negative.\"\n",
    "\n",
    "messages=[\n",
    "    {\"role\": \"system\", \"content\": task},\n",
    "    {\"role\": \"user\", \"content\": prompt}\n",
    "]\n",
    "\n",
    "response = openai.ChatCompletion.create(\n",
    "    model=\"gpt-3.5-turbo\",\n",
    "    messages=messages,\n",
    ")\n",
    "print(response.choices[0].message.content)"
   ]
  },
  {
   "cell_type": "markdown",
   "id": "fecfd2e5",
   "metadata": {},
   "source": [
    "## 創意發想"
   ]
  },
  {
   "cell_type": "code",
   "execution_count": 17,
   "id": "749b095c",
   "metadata": {},
   "outputs": [
    {
     "name": "stdout",
     "output_type": "stream",
     "text": [
      "\n",
      "\n",
      "1. Virtual Reality Fitness Challenge - Create an intense workout challenge in virtual reality that involves physically demanding exercises and competitive games. Participants can compete against each other online, earn rewards, and track their progress.\n",
      "\n",
      "2. VR Personal Training Sessions - Provide virtual reality personal training sessions with a virtual personal trainer. Users can customize their workout routines, track their progress, and get feedback on their form.\n",
      "\n",
      "3. Virtual Reality Yoga Classes - Offer a peaceful and immersive yoga experience through virtual reality. Users can select different yoga environments such as beaches, mountains, or forests and follow along with a virtual instructor.\n",
      "\n",
      "4. Virtual Reality Endurance Races - Create a virtual reality experience that simulates real endurance races, such as marathons or triathlons. Users can race against others from anywhere in the world and practice pacing, hydration, and other important race strategies.\n",
      "\n",
      "5. Virtual Reality Dance Workouts - Provide virtual reality dance workouts that combine high-intensity workouts with popular dance moves. Users can choose different dance styles such as hip hop, ballet, or salsa and burn calories while having fun.\n",
      "\n",
      "6. VR Cycling Adventures - Create a virtual cycling experience where users can explore various cities and landscapes from around the world. Users can also participate in virtual cycling races and keep track of their progress.\n",
      "\n",
      "7. Virtual Reality Boxing Workouts - Create a virtual reality boxing experience where users can validate their punches against digital opponents, working up a sweat and getting physically fit.\n",
      "\n",
      "8. Virtual Reality Fitness Classes - Offer a variety of fitness classes, such as kickboxing or aerobics, in virtual reality. Users can select their preferred classes, choose a virtual instructor, and track their progress over time.\n"
     ]
    }
   ],
   "source": [
    "prompt = 'Brainstorm some ideas combining VR and fitness:'\n",
    "messages=[\n",
    "    {\"role\": \"system\", \"content\": \"You are a marketing expert.\"},\n",
    "    {\"role\": \"user\", \"content\": prompt}\n",
    "]\n",
    "\n",
    "response = openai.ChatCompletion.create(\n",
    "    model=\"gpt-3.5-turbo\",\n",
    "    messages=messages,\n",
    ")\n",
    "print(response.choices[0].message.content)"
   ]
  },
  {
   "cell_type": "code",
   "execution_count": 20,
   "id": "cb650401",
   "metadata": {},
   "outputs": [
    {
     "name": "stdout",
     "output_type": "stream",
     "text": [
      "台積電行銷計畫\n",
      "\n",
      "市場分析：\n",
      "\n",
      "隨著科技的不斷發展，智慧型手機、遊戲產業、物聯網等新興市場的快速崛起，顯示晶片產業成為未來的主要成長動力。台積電作為全球領先的晶圓代工廠商，擁有優秀的技術創新和品質控管能力，業務範圍涵蓋全球各大領導企業，行銷潛力龐大。\n",
      "\n",
      "目標市場定位：\n",
      "\n",
      "台積電依據其技術的優勢及市場需求，在全球市場上盡力保持領先地位，在國內市場上亦希望成為首選的晶片供應商。因此，其目標市場定位為：\n",
      "\n",
      "1.全球Intel、Qualcomm、AMD等各大知名企業\n",
      "2.國內廣大消費市場，如智慧型手機、平板電腦等電子產品品牌商、遊戲產業商家等。\n",
      "\n",
      "行銷策略：\n",
      "\n",
      "1.技術創新：持續進行研發，推廣5奈米產品、3奈米產品，以維持其技術領先地位，滿足客戶需求。\n",
      "\n",
      "2.品質提升：持續提高生產工藝，強化品牌價值及產品品質，確保客戶滿意度。\n",
      "\n",
      "3.行銷聯盟：與國際知名品牌聯手推出合作產品，如與蘋果、華為等合作，透過聯盟行銷，擴大品牌知名度及市場佔有率。\n",
      "\n",
      "4.多元化產品：除了晶圓代工外，金橫科技委外製造、紅土資本合作，進入封測產業及系統產業，以增加產品多樣性及市場競爭力。\n",
      "\n",
      "5.網路行銷：透過社群網路、網路廣告等方式，增加品牌曝光度及認知度。\n",
      "\n",
      "6.品牌形象宣傳：進行品牌形象宣傳廣告，提升品牌感知度及效益。\n",
      "\n",
      "行銷目標：\n",
      "\n",
      "透過以上策略，期許能在全球市場及國內市場上擴大市占率，進而提高營收表現，成為世界一流的晶片代工公司之一。\n"
     ]
    }
   ],
   "source": [
    "prompt = '請擬定台積電的行銷計畫:'\n",
    "messages=[\n",
    "    {\"role\": \"system\", \"content\": \"你是行銷專家.\"},\n",
    "    {\"role\": \"user\", \"content\": prompt}\n",
    "]\n",
    "\n",
    "response = openai.ChatCompletion.create(\n",
    "    model=\"gpt-3.5-turbo\",\n",
    "    messages=messages,\n",
    ")\n",
    "print(response.choices[0].message.content)"
   ]
  },
  {
   "cell_type": "code",
   "execution_count": 22,
   "id": "3310741c",
   "metadata": {
    "scrolled": false
   },
   "outputs": [
    {
     "name": "stdout",
     "output_type": "stream",
     "text": [
      "影印機行銷計畫：\n",
      "\n",
      "1. 定位目標群體：商業辦公室、學校、家用。\n",
      "\n",
      "2. 設定品牌形象：訴求快速、高品質、節省成本以及環保。\n",
      "\n",
      "3. 將產品分成不同等級：高階商務級、普及型商務級、家用型。\n",
      "\n",
      "4. 提供完整產品配備的包裝，包括耗材和軟體，以方便銷售與使用。\n",
      "\n",
      "5. 針對各目標群體推出不同行銷策略：\n",
      "\n",
      "- 商業辦公室：推出快速、大容量的高階商務級和普及型商務級產品，並提供免費的售後服務和保養計畫。\n",
      "- 學校：推出高品質、節省成本的普及型商務級產品，並設置學生優惠計畫。\n",
      "- 家用：推出低噪音、低耗材成本的家用型產品，並提供簡單易用的操作介面。\n",
      "\n",
      "6. 透過網路行銷、廣告、促銷、展覽等多種渠道，提高品牌知名度和銷售量。\n",
      "\n",
      "7. 每年進行市場分析和調查，調整產品定位和行銷策略，以符合市場需求。\n"
     ]
    }
   ],
   "source": [
    "prompt = '請擬定影印機的行銷計畫:'\n",
    "messages=[\n",
    "    {\"role\": \"system\", \"content\": \"你是行銷專家.\"},\n",
    "    {\"role\": \"user\", \"content\": prompt}\n",
    "]\n",
    "\n",
    "response = openai.ChatCompletion.create(\n",
    "    model=\"gpt-3.5-turbo\",\n",
    "    messages=messages,\n",
    ")\n",
    "print(response.choices[0].message.content)"
   ]
  },
  {
   "cell_type": "markdown",
   "id": "93baad74",
   "metadata": {},
   "source": [
    "# 對話(Conversation)"
   ]
  },
  {
   "cell_type": "code",
   "execution_count": 66,
   "id": "a4c5a56d",
   "metadata": {
    "scrolled": true
   },
   "outputs": [
    {
     "name": "stdout",
     "output_type": "stream",
     "text": [
      "I am not sure, would you like me to look up the weather forecast for you?\n"
     ]
    }
   ],
   "source": [
    "prompt = 'what is the wheather in Taipei tomorrow?'\n",
    "messages=[\n",
    "    {\"role\": \"system\", \"content\": \"\"\"The following is a conversation with an AI assistant. \n",
    "      The assistant is helpful, creative, clever, and very friendly.\n",
    "    \"\"\"},\n",
    "    {\"role\": \"user\", \"content\": \"Hello, who are you?\"},\n",
    "    {\"role\": \"assistant\", \"content\": \"I am an AI created by OpenAI. How can I help you today?\"},\n",
    "    {\"role\": \"user\", \"content\": prompt}\n",
    "]\n",
    "\n",
    "response = openai.ChatCompletion.create(\n",
    "    model=\"gpt-3.5-turbo\",\n",
    "    messages=messages,\n",
    ")\n",
    "print(response.choices[0].message.content)"
   ]
  },
  {
   "cell_type": "markdown",
   "id": "9f2f724b",
   "metadata": {},
   "source": [
    "## 追問(Follow up)"
   ]
  },
  {
   "cell_type": "code",
   "execution_count": 68,
   "id": "c641c57a",
   "metadata": {},
   "outputs": [
    {
     "name": "stdout",
     "output_type": "stream",
     "text": [
      "Sure, according to the weather forecast, the weather in Taipei tomorrow is expected to be partly cloudy with a high of 29°C (84°F) and a low of 26°C (79°F). There is a slight chance of rain, so it's recommended to carry an umbrella with you.\n"
     ]
    }
   ],
   "source": [
    "prompt = 'yes, please'\n",
    "messages=[\n",
    "    {\"role\": \"user\", \"content\": 'what is the wheather in Taipei tomorrow?'},\n",
    "    {\"role\": \"assistant\", \"content\": \"I am not sure, would you like me to look up the weather forecast for you?\"},\n",
    "    {\"role\": \"user\", \"content\": prompt}\n",
    "]\n",
    "response = openai.ChatCompletion.create(\n",
    "    model=\"gpt-3.5-turbo\",\n",
    "    messages=messages,\n",
    ")\n",
    "print(response.choices[0].message.content)"
   ]
  },
  {
   "cell_type": "markdown",
   "id": "863f2512",
   "metadata": {},
   "source": [
    "# 翻譯(Translation)"
   ]
  },
  {
   "cell_type": "code",
   "execution_count": 29,
   "id": "293a87dc",
   "metadata": {
    "scrolled": true
   },
   "outputs": [
    {
     "name": "stdout",
     "output_type": "stream",
     "text": [
      "French: Quelles chambres avez-vous de disponibles ?\n",
      "Traditional Chinese: 你們有哪些房間可用？\n",
      "Japanese: どの部屋が利用可能ですか？\n"
     ]
    }
   ],
   "source": [
    "prompt = 'What rooms do you have available?:'\n",
    "messages=[\n",
    "    {\"role\": \"system\", \"content\": \"Translate this into French, Traditional Chinese and Japanese:\"},\n",
    "    {\"role\": \"user\", \"content\": prompt}\n",
    "]\n",
    "\n",
    "response = openai.ChatCompletion.create(\n",
    "    model=\"gpt-3.5-turbo\",\n",
    "    messages=messages,\n",
    ")\n",
    "print(response.choices[0].message.content)"
   ]
  },
  {
   "cell_type": "markdown",
   "id": "87c4acb3",
   "metadata": {},
   "source": [
    "## 生成表情符號(emoji)"
   ]
  },
  {
   "cell_type": "code",
   "execution_count": 31,
   "id": "810005ce",
   "metadata": {
    "scrolled": true
   },
   "outputs": [
    {
     "name": "stdout",
     "output_type": "stream",
     "text": [
      "Star Wars: ⭐️🗡️👽👨‍🚀🚀\n"
     ]
    }
   ],
   "source": [
    "prompt = 'Star Wars:'\n",
    "messages=[\n",
    "    {\"role\": \"system\", \"content\": \"Convert movie titles into emoji.\"},\n",
    "    {\"role\": \"user\", \"content\": \"Hello, who are you?\"},\n",
    "    {\"role\": \"assistant\", \"content\": \"Back to the Future: 👨👴🚗🕒\"},\n",
    "    {\"role\": \"assistant\", \"content\": \"Batman: 🤵🦇\"},\n",
    "    {\"role\": \"assistant\", \"content\": \"Transformers: 🚗🤖\"},\n",
    "    {\"role\": \"user\", \"content\": prompt}\n",
    "]\n",
    "\n",
    "response = openai.ChatCompletion.create(\n",
    "    model=\"gpt-3.5-turbo\",\n",
    "    messages=messages,\n",
    ")\n",
    "print(response.choices[0].message.content)"
   ]
  },
  {
   "cell_type": "markdown",
   "id": "9b070fac",
   "metadata": {},
   "source": [
    "# 摘要(Summarization)"
   ]
  },
  {
   "cell_type": "code",
   "execution_count": 33,
   "id": "e1e619a2",
   "metadata": {
    "scrolled": true
   },
   "outputs": [
    {
     "name": "stdout",
     "output_type": "stream",
     "text": [
      "Jupiter is a really big planet in our Solar System that's fifth from the Sun. It's much larger than all the other planets combined and is really bright in the night sky. People knew about Jupiter for a long time because it's named after a Roman god. When you look at Jupiter from Earth, it can be so bright that it makes shadows! It's usually the third-brightest thing we see at night, after the Moon and Venus.\n"
     ]
    }
   ],
   "source": [
    "prompt = '''\n",
    "Jupiter is the fifth planet from the Sun and the largest in the Solar System. \n",
    "It is a gas giant with a mass one-thousandth that of the Sun, \n",
    "but two-and-a-half times that of all the other planets in the Solar System combined. \n",
    "Jupiter is one of the brightest objects visible to the naked eye in the night sky, \n",
    "and has been known to ancient civilizations since before recorded history. \n",
    "It is named after the Roman god Jupiter.[19] When viewed from Earth, \n",
    "Jupiter can be bright enough for its reflected light to cast visible shadows,[20] \n",
    "and is on average the third-brightest natural object in the night sky after the Moon and Venus.\n",
    "'''\n",
    "messages=[\n",
    "    {\"role\": \"system\", \"content\": \"Summarize this for a second-grade student:\"},\n",
    "    {\"role\": \"user\", \"content\": prompt}\n",
    "]\n",
    "\n",
    "response = openai.ChatCompletion.create(\n",
    "    model=\"gpt-3.5-turbo\",\n",
    "    messages=messages,\n",
    ")\n",
    "print(response.choices[0].message.content)"
   ]
  },
  {
   "cell_type": "markdown",
   "id": "7f85f935",
   "metadata": {},
   "source": [
    "# 摘要(Summarization)"
   ]
  },
  {
   "cell_type": "code",
   "execution_count": 35,
   "id": "95327374",
   "metadata": {
    "scrolled": false
   },
   "outputs": [
    {
     "name": "stdout",
     "output_type": "stream",
     "text": [
      "本文摘要指出，今年全球最大的變數是美國聯準會升息速度的調整。美元在上半年相對其他國家升值近1成，這反映了聯準會升息速度的加快。接下來，日本仍持續寬鬆，歐洲央行很可能也會跟著升息，新興國家已經開始升息。因此，從利差的角度來看，美元在第3季可能仍然相對強勢。然而，第3季可能會是美元觸頂的時候，因為升息速度和幅度預計會在9月份之後，通膨有機會在第3季達到頂峰後往下，甚至市場已經開始反應景氣軟著陸和衰退的機率上升到4成。接下來關鍵將是聯準會的經濟預估，也就是2023年失業率預計上升到3.9%。\n"
     ]
    }
   ],
   "source": [
    "prompt = '''\n",
    "全球今年最大的變數就是美國聯準會不斷調整升息的幅度跟速度，從3月升息1碼，到5月份2碼、6月份升息3碼，\n",
    "目前預估7月份再升息3碼的機率也是超過8成，也就是說市場在今年持續的反應從聯準會由鴿轉鷹，變成說主動打擊通膨的意識開始轉強。\n",
    "上半年美元指數相對其他國家升值了將近1成，所以這麼快的幅度也反應了聯準會升息的速度，\n",
    "相對於其他國家，尤其日本還是持續寬鬆沒有任何升息的計畫，而歐洲央行7月份應該也會跟著升息，\n",
    "新興國家因為通膨出現所以更早升息，所以如果全球反應的是一個利差的角度，美元在今年第3季還是有機會相對強勢。\n",
    "但是這個強勢可能在第3季就會觸頂，主要是因為目前市場預估的升息速度跟幅度應該就是在9月份之後，\n",
    "看升息半年後，經濟的表現狀況，而通膨有機會在第3季觸頂後往下，因為從經濟數據來看，商品價格已經開始往下，\n",
    "而供應鏈斷鏈的情況也開始舒緩，甚至市場開始反應景氣軟著陸，衰退的機率也上升到4成，所以接下來我們反應的是聯準會的經濟預估，\n",
    "也就是2023年失業率會往上到3.9%，等同於是減少對勞動市場的刺激，來換取壓抑通膨高一點的利率，所以這個部分相對於失業率的升高，\n",
    "也可以壓抑通膨。'''\n",
    "messages=[\n",
    "    {\"role\": \"system\", \"content\": \"彙整全文摘要:\"},\n",
    "    {\"role\": \"user\", \"content\": prompt}\n",
    "]\n",
    "\n",
    "response = openai.ChatCompletion.create(\n",
    "    model=\"gpt-3.5-turbo\",\n",
    "    messages=messages,\n",
    ")\n",
    "print(response.choices[0].message.content)"
   ]
  },
  {
   "cell_type": "markdown",
   "id": "d6669d06",
   "metadata": {},
   "source": [
    "# 插入文本(Inserting text)"
   ]
  },
  {
   "cell_type": "code",
   "execution_count": 57,
   "id": "24f14a77",
   "metadata": {},
   "outputs": [
    {
     "name": "stdout",
     "output_type": "stream",
     "text": [
      " and move to San Diego, California. I had never been to California before and the change of scenery was just what I needed. \n"
     ]
    }
   ],
   "source": [
    "prompt = 'I went to college at Boston University. After getting my degree, I decided to make a change'\n",
    "suffix='Now, I can’t get enough of the Pacific Ocean!'\n",
    "response = openai.Completion.create(\n",
    "    model=\"text-davinci-003\",\n",
    "    prompt=prompt,\n",
    "    temperature=0.6,\n",
    "    max_tokens=100,\n",
    "    suffix=suffix,\n",
    ")\n",
    "print(response.choices[0].text)"
   ]
  },
  {
   "cell_type": "markdown",
   "id": "ac88f5a1",
   "metadata": {},
   "source": [
    "# 編輯文本(Editing text)"
   ]
  },
  {
   "cell_type": "code",
   "execution_count": 61,
   "id": "480c7331",
   "metadata": {
    "scrolled": true
   },
   "outputs": [
    {
     "name": "stdout",
     "output_type": "stream",
     "text": [
      "\n",
      "I'm GPT-3, a powerful AI\n",
      "My capabilities are quite high\n",
      "I can answer questions with ease\n",
      "My responses are full of expertise\n",
      "Able to think and reason with care\n",
      "My intelligence is truly rare.\n"
     ]
    }
   ],
   "source": [
    "prompt = '''\n",
    "GPT-3 is a very nice AI\n",
    "That's pretty good at writing replies\n",
    "When it's asked a question\n",
    "It gives its suggestion\n",
    "This is a poem it made that rhymes.\n",
    "Make this in the voice of GPT-3.\n",
    "'''\n",
    "\n",
    "response = openai.Completion.create(\n",
    "    model=\"text-davinci-003\",\n",
    "    prompt=prompt,\n",
    "    temperature=0.6,\n",
    "    max_tokens=100,\n",
    ")\n",
    "print(response.choices[0].text)"
   ]
  },
  {
   "cell_type": "code",
   "execution_count": null,
   "id": "01e7aaf4",
   "metadata": {},
   "outputs": [],
   "source": []
  }
 ],
 "metadata": {
  "kernelspec": {
   "display_name": "Python 3 (ipykernel)",
   "language": "python",
   "name": "python3"
  },
  "language_info": {
   "codemirror_mode": {
    "name": "ipython",
    "version": 3
   },
   "file_extension": ".py",
   "mimetype": "text/x-python",
   "name": "python",
   "nbconvert_exporter": "python",
   "pygments_lexer": "ipython3",
   "version": "3.9.13"
  }
 },
 "nbformat": 4,
 "nbformat_minor": 5
}
