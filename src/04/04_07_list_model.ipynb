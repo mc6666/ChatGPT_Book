{
 "cells": [
  {
   "cell_type": "code",
   "execution_count": 1,
   "id": "6bf3fe1b",
   "metadata": {},
   "outputs": [],
   "source": [
    "import openai"
   ]
  },
  {
   "cell_type": "code",
   "execution_count": 2,
   "id": "eb359cd2",
   "metadata": {},
   "outputs": [],
   "source": [
    "response = openai.Model.list()"
   ]
  },
  {
   "cell_type": "code",
   "execution_count": 6,
   "id": "54f28e08",
   "metadata": {},
   "outputs": [
    {
     "name": "stdout",
     "output_type": "stream",
     "text": [
      "model:\n",
      "babbage\n",
      "davinci\n",
      "babbage-code-search-code\n",
      "text-similarity-babbage-001\n",
      "text-davinci-001\n",
      "ada\n",
      "curie-instruct-beta\n",
      "babbage-code-search-text\n",
      "babbage-similarity\n",
      "code-search-babbage-text-001\n",
      "gpt-3.5-turbo\n",
      "gpt-3.5-turbo-0301\n",
      "code-cushman-001\n",
      "code-search-babbage-code-001\n",
      "text-ada-001\n",
      "text-embedding-ada-002\n",
      "text-similarity-ada-001\n",
      "text-davinci-insert-002\n",
      "ada-code-search-code\n",
      "ada-similarity\n",
      "whisper-1\n",
      "text-davinci-003\n",
      "code-search-ada-text-001\n",
      "text-search-ada-query-001\n",
      "text-curie-001\n",
      "text-davinci-edit-001\n",
      "davinci-search-document\n",
      "ada-code-search-text\n",
      "text-search-ada-doc-001\n",
      "code-davinci-edit-001\n",
      "davinci-instruct-beta\n",
      "code-davinci-002\n",
      "text-similarity-curie-001\n",
      "code-search-ada-code-001\n",
      "ada-search-query\n",
      "text-search-davinci-query-001\n",
      "curie-search-query\n",
      "davinci-search-query\n",
      "text-davinci-insert-001\n",
      "babbage-search-document\n",
      "ada-search-document\n",
      "text-search-curie-query-001\n",
      "text-search-babbage-doc-001\n",
      "text-davinci-002\n",
      "curie-search-document\n",
      "text-search-curie-doc-001\n",
      "babbage-search-query\n",
      "text-babbage-001\n",
      "text-search-davinci-doc-001\n",
      "text-search-babbage-query-001\n",
      "curie-similarity\n",
      "curie\n",
      "text-similarity-davinci-001\n",
      "davinci-similarity\n",
      "cushman:2020-05-03\n",
      "ada:2020-05-03\n",
      "babbage:2020-05-03\n",
      "curie:2020-05-03\n",
      "davinci:2020-05-03\n",
      "if-davinci-v2\n",
      "if-curie-v2\n",
      "if-davinci:3.0.0\n",
      "davinci-if:3.0.0\n",
      "davinci-instruct-beta:2.0.0\n",
      "text-ada:001\n",
      "text-davinci:001\n",
      "text-curie:001\n",
      "text-babbage:001\n",
      "curie:ft-digibank-2023-03-14-15-49-15\n",
      "ada:ft-digibank-2023-03-13-15-17-38\n",
      "curie:ft-digibank-2023-03-14-17-12-32\n"
     ]
    }
   ],
   "source": [
    "print(f'model:')\n",
    "for model in response.data:    \n",
    "    print(model.id)"
   ]
  },
  {
   "cell_type": "code",
   "execution_count": null,
   "id": "53932ea8",
   "metadata": {},
   "outputs": [],
   "source": []
  }
 ],
 "metadata": {
  "kernelspec": {
   "display_name": "Python 3 (ipykernel)",
   "language": "python",
   "name": "python3"
  },
  "language_info": {
   "codemirror_mode": {
    "name": "ipython",
    "version": 3
   },
   "file_extension": ".py",
   "mimetype": "text/x-python",
   "name": "python",
   "nbconvert_exporter": "python",
   "pygments_lexer": "ipython3",
   "version": "3.9.13"
  }
 },
 "nbformat": 4,
 "nbformat_minor": 5
}
