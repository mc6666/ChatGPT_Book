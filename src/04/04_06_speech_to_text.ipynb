{
 "cells": [
  {
   "cell_type": "markdown",
   "id": "b4aefc7d",
   "metadata": {},
   "source": [
    "# 語音辨識(speech to text) "
   ]
  },
  {
   "cell_type": "markdown",
   "id": "b912c71d",
   "metadata": {},
   "source": [
    "## 載入套件"
   ]
  },
  {
   "cell_type": "code",
   "execution_count": 1,
   "id": "265c5584",
   "metadata": {},
   "outputs": [],
   "source": [
    "import openai\n",
    "import pandas as pd\n",
    "import numpy as np\n",
    "import matplotlib.pyplot as plta\n",
    "import matplotlib"
   ]
  },
  {
   "cell_type": "markdown",
   "id": "21be7b52",
   "metadata": {},
   "source": [
    "## 生成逐字稿(Transcription)"
   ]
  },
  {
   "cell_type": "code",
   "execution_count": 4,
   "id": "19ff3ec5",
   "metadata": {},
   "outputs": [
    {
     "name": "stdout",
     "output_type": "stream",
     "text": [
      "今天好吗?\n"
     ]
    }
   ],
   "source": [
    "audio_file= open(\"./data/me.m4a\", \"rb\")\n",
    "transcript = openai.Audio.translate(\"whisper-1\", audio_file)\n",
    "print(transcript.text)"
   ]
  },
  {
   "cell_type": "markdown",
   "id": "cd5352cf",
   "metadata": {},
   "source": [
    "## 目前只支援輸出英文(en)"
   ]
  },
  {
   "cell_type": "code",
   "execution_count": 7,
   "id": "0a270191",
   "metadata": {
    "scrolled": true
   },
   "outputs": [
    {
     "name": "stdout",
     "output_type": "stream",
     "text": [
      "1 validation error for Request\n",
      "body -> language\n",
      "  value is not a valid enumeration member; permitted: 'en' (type=type_error.enum; enum_values=[<TranslationLanguage.EN: 'en'>])\n"
     ]
    }
   ],
   "source": [
    "try:\n",
    "    audio_file= open(\"./data/短影音.m4a\", \"rb\")\n",
    "    transcript = openai.Audio.translate(\"whisper-1\", audio_file, language='zh')\n",
    "    print(transcript)\n",
    "except Exception as e:\n",
    "    print(str(e))"
   ]
  },
  {
   "cell_type": "markdown",
   "id": "0d7e5096",
   "metadata": {},
   "source": [
    "## 翻譯(translation)"
   ]
  },
  {
   "cell_type": "code",
   "execution_count": 9,
   "id": "f108fa07",
   "metadata": {
    "scrolled": true
   },
   "outputs": [
    {
     "data": {
      "text/plain": [
       "<OpenAIObject at 0x2b28e28a220> JSON: {\n",
       "  \"text\": \"Do you want to quickly master the deep learning and urban development capabilities? This is the course you have been looking for Deep learning is based on the entry-level to practical application This class will lead you to understand the core principles of deep learning step by step Learn how to design and adjust the best models and parameters And through multiple rich cases in practice Let you immediately master the practical skills of deep learning In a 10-hour course You not only understand the principles and skills of deep learning Also learn how to use machine learning development tools and functions Let you master the entire development process of deep learning Don't worry, this course focuses on practical application Will be deeply explained Explain the necessary mathematics and statistics for deep learning The main course explains the parameters and every parameter Let you easily master every technical detail In addition, we will also use a large number of diagrams and programs Let you understand the learning points more quickly So that you can master the development process and practical points This course is suitable for developers who want to further develop AI learning and research directions And students and engineers who want to actually apply image recognition models in the company Immediately pre-order the course and let us become experts in deep learning together\"\n",
       "}"
      ]
     },
     "execution_count": 9,
     "metadata": {},
     "output_type": "execute_result"
    }
   ],
   "source": [
    "audio_file= open(\"./data/短影音.m4a\", \"rb\")\n",
    "transcript = openai.Audio.translate(\"whisper-1\", audio_file)\n",
    "transcript"
   ]
  },
  {
   "cell_type": "markdown",
   "id": "ccc0f7a8",
   "metadata": {},
   "source": [
    "## 長語音：截短送至另一個檔案"
   ]
  },
  {
   "cell_type": "code",
   "execution_count": 2,
   "id": "a8109fb8",
   "metadata": {},
   "outputs": [
    {
     "data": {
      "text/plain": [
       "<_io.BufferedRandom name='./data/good_morning_1.mp3'>"
      ]
     },
     "execution_count": 2,
     "metadata": {},
     "output_type": "execute_result"
    }
   ],
   "source": [
    "from pydub import AudioSegment\n",
    "\n",
    "song = AudioSegment.from_mp3(\"./data/good_morning.mp3\")\n",
    "\n",
    "# PyDub 以毫秒為單位\n",
    "one_minutes = 1 * 60 * 1000\n",
    "first_1_minutes = song[:one_minutes]\n",
    "first_1_minutes.export(\"./data/good_morning_1.mp3\", format=\"mp3\")"
   ]
  },
  {
   "cell_type": "code",
   "execution_count": 3,
   "id": "4139dd46",
   "metadata": {},
   "outputs": [
    {
     "data": {
      "text/plain": [
       "<_io.BufferedRandom name='./data/good_morning_2.mp3'>"
      ]
     },
     "execution_count": 3,
     "metadata": {},
     "output_type": "execute_result"
    }
   ],
   "source": [
    "two_minutes = 2 * 60 * 1000\n",
    "second_minutes = song[one_minutes:two_minutes]\n",
    "second_minutes.export(\"./data/good_morning_2.mp3\", format=\"mp3\")"
   ]
  },
  {
   "cell_type": "code",
   "execution_count": 6,
   "id": "38de9791",
   "metadata": {},
   "outputs": [
    {
     "data": {
      "text/plain": [
       "<OpenAIObject at 0x2a6ce349040> JSON: {\n",
       "  \"text\": \"Good morning. Woo! Wake up, Mr. West. Mr. West, Mr. Fresh. Mr. By himself, he's so impressed. I mean, damn, did you even see the test? You got D's, mother----- D's. Rosie Perez. And yes, barely passed any and every class. Looking at every app. Cheated on every test, I guess. This is my dissertation. Homie, this shit is basic. Welcome to graduation. Good morning. I-I hate that man.\"\n",
       "}"
      ]
     },
     "execution_count": 6,
     "metadata": {},
     "output_type": "execute_result"
    }
   ],
   "source": [
    "audio_file= open(\"./data/good_morning_1.mp3\", \"rb\")\n",
    "transcript = openai.Audio.translate(\"whisper-1\", audio_file)\n",
    "transcript"
   ]
  },
  {
   "cell_type": "code",
   "execution_count": 7,
   "id": "46893358",
   "metadata": {},
   "outputs": [
    {
     "data": {
      "text/plain": [
       "\"Good morning. Woo! Wake up, Mr. West. Mr. West, Mr. Fresh. Mr. By himself, he's so impressed. I mean, damn, did you even see the test? You got D's, mother----- D's. Rosie Perez. And yes, barely passed any and every class. Looking at every app. Cheated on every test, I guess. This is my dissertation. Homie, this shit is basic. Welcome to graduation. Good morning. I-I hate that man.\""
      ]
     },
     "execution_count": 7,
     "metadata": {},
     "output_type": "execute_result"
    }
   ],
   "source": [
    "transcript['text']"
   ]
  },
  {
   "cell_type": "code",
   "execution_count": 8,
   "id": "81024d95",
   "metadata": {},
   "outputs": [
    {
     "data": {
      "text/plain": [
       "<OpenAIObject at 0x2a6ce3ffae0> JSON: {\n",
       "  \"text\": \"Good morning. Good morning. Good morning. Good morning. On this day, we become legendary. Everything we dreamed of. I'm like the fly Malcolm X. Buy any jeans necessary. Detroit red cleaned up. From the streets to the league. From an eighth to a key. But you graduate when you make it up out of the streets. From the moments of pain. Look how far we done came. Haters saying you changed. Now you doing your thing. Good morning. Good morning. Good morning.\"\n",
       "}"
      ]
     },
     "execution_count": 8,
     "metadata": {},
     "output_type": "execute_result"
    }
   ],
   "source": [
    "prompt = transcript['text']\n",
    "audio_file= open(\"./data/good_morning_2.mp3\", \"rb\")\n",
    "transcript = openai.Audio.translate(\"whisper-1\", audio_file, prompt=prompt)\n",
    "transcript"
   ]
  },
  {
   "cell_type": "code",
   "execution_count": null,
   "id": "dd4d6919",
   "metadata": {},
   "outputs": [],
   "source": []
  }
 ],
 "metadata": {
  "kernelspec": {
   "display_name": "Python 3 (ipykernel)",
   "language": "python",
   "name": "python3"
  },
  "language_info": {
   "codemirror_mode": {
    "name": "ipython",
    "version": 3
   },
   "file_extension": ".py",
   "mimetype": "text/x-python",
   "name": "python",
   "nbconvert_exporter": "python",
   "pygments_lexer": "ipython3",
   "version": "3.9.13"
  }
 },
 "nbformat": 4,
 "nbformat_minor": 5
}
