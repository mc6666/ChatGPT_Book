{
 "cells": [
  {
   "cell_type": "markdown",
   "id": "b4aefc7d",
   "metadata": {},
   "source": [
    "# Text completion 測試"
   ]
  },
  {
   "cell_type": "markdown",
   "id": "b912c71d",
   "metadata": {},
   "source": [
    "## 載入套件"
   ]
  },
  {
   "cell_type": "code",
   "execution_count": 2,
   "id": "265c5584",
   "metadata": {},
   "outputs": [],
   "source": [
    "import os\n",
    "import openai\n",
    "import requests\n",
    "import os, json"
   ]
  },
  {
   "cell_type": "markdown",
   "id": "e951a6e7",
   "metadata": {},
   "source": [
    "# 程式碼生成(Code generation)"
   ]
  },
  {
   "cell_type": "code",
   "execution_count": 3,
   "id": "82be4b90",
   "metadata": {},
   "outputs": [
    {
     "name": "stdout",
     "output_type": "stream",
     "text": [
      "Sure, here's some Python code to achieve that:\n",
      "\n",
      "```\n",
      "name = input(\"What is your name? \")\n",
      "print(\"Hello \" + name + \"!\")\n",
      "```\n",
      "\n",
      "When the user runs this code, they will be prompted to enter their name. Once they enter their name and press enter, the program will display a greeting that says \"Hello\" followed by their name.\n"
     ]
    }
   ],
   "source": [
    "prompt = 'Ask the user for their name and say \"Hello\" with Python'\n",
    "messages=[\n",
    "    {\"role\": \"system\", \"content\": \"you are a Python expert.\"},\n",
    "    {\"role\": \"user\", \"content\": prompt}\n",
    "]\n",
    "response = openai.ChatCompletion.create(\n",
    "    model=\"gpt-3.5-turbo\",\n",
    "    messages=messages,\n",
    ")\n",
    "print(response.choices[0].message.content)"
   ]
  },
  {
   "cell_type": "markdown",
   "id": "934bdefa",
   "metadata": {},
   "source": [
    "## code-davinci-002 模型"
   ]
  },
  {
   "cell_type": "code",
   "execution_count": 4,
   "id": "3a36ca9a",
   "metadata": {
    "scrolled": false
   },
   "outputs": [
    {
     "name": "stdout",
     "output_type": "stream",
     "text": [
      " to them.\n",
      "\n",
      "Hint: You will need to use the input() function to get the user's name and the print() function to display your message.\n",
      "\n",
      "For example, if the user enters \"Alex\" at the prompt, then the program should display \"Hello Alex!\"\n",
      "\n",
      "Hint: You will need to use the input() function to get the user's name and the print() function to display your message. For example, if the user enters \"Alex\" at\n"
     ]
    }
   ],
   "source": [
    "prompt = 'you are a Python expert. Generate Python code to ask the user for their name and say \"Hello\"'\n",
    "response = openai.Completion.create(\n",
    "    model=\"code-davinci-002\",\n",
    "    prompt=prompt,\n",
    "    temperature=0.6,\n",
    "    max_tokens=100,\n",
    ")\n",
    "print(response.choices[0].text)"
   ]
  },
  {
   "cell_type": "markdown",
   "id": "d6669d06",
   "metadata": {},
   "source": [
    "# 解釋程式碼"
   ]
  },
  {
   "cell_type": "code",
   "execution_count": 6,
   "id": "24f14a77",
   "metadata": {},
   "outputs": [
    {
     "name": "stdout",
     "output_type": "stream",
     "text": [
      "console.log(fullNames);\n",
      "</code>\n",
      "It loops over\n"
     ]
    }
   ],
   "source": [
    "prompt = '''// Function 1\n",
    "var fullNames = [];\n",
    "for (var i = 0; i < 50; i++) {\n",
    "  fullNames.push(names[Math.floor(Math.random() * names.length)]\n",
    "    + \" \" + lastNames[Math.floor(Math.random() * lastNames.length)]);\n",
    "}\n",
    "\n",
    "// What does Function 1 do?'\n",
    "'''\n",
    "\n",
    "response = openai.Completion.create(\n",
    "    model=\"code-davinci-002\",\n",
    "    prompt=prompt,\n",
    ")\n",
    "print(response.choices[0].text)"
   ]
  },
  {
   "cell_type": "code",
   "execution_count": 7,
   "id": "0ac1f1d5",
   "metadata": {},
   "outputs": [
    {
     "name": "stdout",
     "output_type": "stream",
     "text": [
      "# Answer 1\n",
      "print(\"It returns a live rectangle around my face.\")\n"
     ]
    }
   ],
   "source": [
    "prompt = '''# Function 1\n",
    "mport cv2\n",
    "\n",
    "image='image.png'\n",
    "face_cascade = cv2.CascadeClassifier('haarcascade_frontalface_default.xml')\n",
    "img = cv2.imread(image)\n",
    "gray = cv2.cvtColor(img, cv2.COLOR_BGR2GRAY)\n",
    "faces = face_cascade.detectMultiScale(gray, 1.1, 4)\n",
    "for (x, y, w, h) in faces:\n",
    "    cv2.rectangle(img, (x, y), (x+w, y+h), (255, 0, 0), 2)\n",
    "cv2.imshow('img', img)\n",
    "cv2.waitKey()\n",
    "\n",
    "# What does Function 1 do?'\n",
    "'''\n",
    "\n",
    "response = openai.Completion.create(\n",
    "    model=\"code-davinci-002\",\n",
    "    prompt=prompt,\n",
    ")\n",
    "print(response.choices[0].text)"
   ]
  },
  {
   "cell_type": "markdown",
   "id": "4538ba4f",
   "metadata": {},
   "source": [
    "# 提示一段註釋、資料，產生程式碼"
   ]
  },
  {
   "cell_type": "code",
   "execution_count": 11,
   "id": "7615a0c4",
   "metadata": {
    "scrolled": true
   },
   "outputs": [
    {
     "name": "stdout",
     "output_type": "stream",
     "text": [
      "To calculate the mean distance between an array of points (represented as a list of numbers), you can use the following Python code:\n",
      "\n",
      "```python\n",
      "import numpy as np\n",
      "\n",
      "list1 = [0, 300, 500, 1000]\n",
      "distances = np.diff(list1)\n",
      "mean_distance = np.mean(distances)\n",
      "\n",
      "print(mean_distance)\n",
      "```\n",
      "\n",
      "Explanation:\n",
      "\n",
      "- We start by importing the NumPy library, which provides a suite of mathematical functions for working with arrays and matrices.\n",
      "- The list of points is represented as `list1`. Note that we are assuming that the points are sorted in increasing order.\n",
      "- We use the NumPy `diff` function to calculate the pairwise differences between adjacent points in the list. This will give us an array of distances between adjacent points.\n",
      "- We calculate the mean of the distances using the NumPy `mean` function.\n",
      "- Finally, we print the mean distance.\n",
      "\n",
      "Output:\n",
      "```\n",
      "233.33333333333334\n",
      "```\n",
      "\n",
      "Note that in this example, the mean distance is calculated as (300-0 + 500-300 + 1000-500)/3 = 233.33333333333334.\n"
     ]
    }
   ],
   "source": [
    "prompt = \"\"\"\n",
    "# Python 3\n",
    "# list1 = [0, 300, 500, 1000]\n",
    "# Calculate the mean distance between an array of points\"\"\"\n",
    "messages=[\n",
    "    {\"role\": \"system\", \"content\": \"You are a Python expert\"},\n",
    "    {\"role\": \"user\", \"content\": prompt}\n",
    "]\n",
    "\n",
    "response = openai.ChatCompletion.create(\n",
    "    model=\"gpt-3.5-turbo\",\n",
    "    messages=messages,\n",
    ")\n",
    "print(response.choices[0].message.content)"
   ]
  },
  {
   "cell_type": "markdown",
   "id": "84569b24",
   "metadata": {},
   "source": [
    "### 驗證"
   ]
  },
  {
   "cell_type": "code",
   "execution_count": 13,
   "id": "b5c1bf2b",
   "metadata": {},
   "outputs": [
    {
     "data": {
      "text/plain": [
       "333.3333333333333"
      ]
     },
     "execution_count": 13,
     "metadata": {},
     "output_type": "execute_result"
    }
   ],
   "source": [
    "import numpy as np\n",
    "\n",
    "list1 = [0, 300, 500, 1000]\n",
    "distances = np.diff(list1)\n",
    "mean_distance = np.mean(distances)\n",
    "mean_distance"
   ]
  },
  {
   "cell_type": "code",
   "execution_count": 14,
   "id": "d5ae63fc",
   "metadata": {},
   "outputs": [
    {
     "data": {
      "text/plain": [
       "333.3333333333333"
      ]
     },
     "execution_count": 14,
     "metadata": {},
     "output_type": "execute_result"
    }
   ],
   "source": [
    "(300-0 + 500-300 + 1000-500)/3"
   ]
  },
  {
   "cell_type": "markdown",
   "id": "eac9ebae",
   "metadata": {},
   "source": [
    "# 將註解轉換為函數"
   ]
  },
  {
   "cell_type": "code",
   "execution_count": 16,
   "id": "590ca780",
   "metadata": {
    "scrolled": true
   },
   "outputs": [
    {
     "name": "stdout",
     "output_type": "stream",
     "text": [
      "\n",
      "\n",
      "Sure, here is one way to create a function that counts to 100 and returns the sum of all numbers:\n",
      "\n",
      "```\n",
      "def counter():\n",
      "    \"\"\"\n",
      "    Counts to 100 and returns the sum of all numbers\n",
      "    \"\"\"\n",
      "    count = 0\n",
      "    for i in range(1, 101):\n",
      "        count += i\n",
      "    return count\n",
      "```\n",
      "\n",
      "This function uses a for loop to count from 1 to 100 and adds each number to a running total called `count`. Once the loop is finished, the `count` variable contains the sum of all the numbers, which is then returned by the function. \n",
      "\n",
      "You can call this function by simply typing `counter()` in your Python terminal or in any Python script or application that you're building.\n"
     ]
    }
   ],
   "source": [
    "prompt = \"\"\"\n",
    "# Create a function to count to 100 and sum all numbers\n",
    "\n",
    "def counter\n",
    "\"\"\"\n",
    "messages=[\n",
    "    {\"role\": \"system\", \"content\": \"You are a database expert\"},\n",
    "    {\"role\": \"user\", \"content\": prompt}\n",
    "]\n",
    "\n",
    "response = openai.ChatCompletion.create(\n",
    "    model=\"gpt-3.5-turbo\",\n",
    "    messages=messages,\n",
    ")\n",
    "print(response.choices[0].message.content)"
   ]
  },
  {
   "cell_type": "code",
   "execution_count": 17,
   "id": "a44fda50",
   "metadata": {},
   "outputs": [
    {
     "name": "stdout",
     "output_type": "stream",
     "text": [
      "Unfortunately, as an AI language model, I do not have the capability to create timers that can interact with the user's device. However, I can provide pseudo-code for a timer in Python that would create an alert after 10 seconds using the \"time\" module:\n",
      "\n",
      "```\n",
      "import time\n",
      "\n",
      "time.sleep(10)\n",
      "print(\"ALERT: 10 seconds have passed!\")\n",
      "```\n",
      "\n",
      "Note that this code only prints the message to the console, and would need to be modified to interact with the user in a more meaningful way.\n"
     ]
    }
   ],
   "source": [
    "prompt = \"\"\"\n",
    "# Create a timer that creates an alert in 10 seconds\n",
    "\"\"\"\n",
    "messages=[\n",
    "    {\"role\": \"system\", \"content\": \"You are a database expert\"},\n",
    "    {\"role\": \"user\", \"content\": prompt}\n",
    "]\n",
    "\n",
    "response = openai.ChatCompletion.create(\n",
    "    model=\"gpt-3.5-turbo\",\n",
    "    messages=messages,\n",
    ")\n",
    "print(response.choices[0].message.content)"
   ]
  },
  {
   "cell_type": "code",
   "execution_count": 18,
   "id": "c04e6f01",
   "metadata": {
    "scrolled": true
   },
   "outputs": [
    {
     "name": "stdout",
     "output_type": "stream",
     "text": [
      "A-Frame is a powerful framework for creating VR experiences and 3D websites using HTML and Javascript. You can create a basic A-Frame website by following these simple steps:\n",
      "\n",
      "1. Create a new HTML file and add the A-Frame library using a script tag:\n",
      "\n",
      "```\n",
      "<html>\n",
      "  <head>\n",
      "    <script src=\"https://aframe.io/releases/1.2.0/aframe.min.js\"></script>\n",
      "  </head>\n",
      "  <body>\n",
      "    <a-scene>\n",
      "      <!-- Your scene content goes here -->\n",
      "    </a-scene>\n",
      "  </body>\n",
      "</html>\n",
      "```\n",
      "\n",
      "2. Add the `a-scene` tag to define the container for your 3D scene.\n",
      "\n",
      "3. Inside the `a-scene` tag, you can add various entities such as primitives (cubes, spheres, etc.) or models (imported from external files). For example, to add a blue cube, you can use the following code:\n",
      "\n",
      "```\n",
      "<a-box color=\"blue\"></a-box>\n",
      "```\n",
      "\n",
      "4. You can also add components and define their properties to add custom functionality to your entities. For example, to add a camera to your scene, you can use the following code:\n",
      "\n",
      "```\n",
      "<a-entity camera></a-entity>\n",
      "```\n",
      "\n",
      "5. Save your HTML file and open it in a browser to see your 3D website.\n",
      "\n",
      "This is just a basic overview of how to create an A-Frame website. Using the A-Frame documentation and examples, you can create complex and interactive 3D experiences.\n"
     ]
    }
   ],
   "source": [
    "prompt = \"\"\"\n",
    "<!-- Use A-Frame version 1.2.0 to create a 3D website -->\n",
    "<!-- https://aframe.io/releases/1.2.0/aframe.min.js -->\n",
    "\"\"\"\n",
    "messages=[\n",
    "    {\"role\": \"system\", \"content\": \"You are a js expert\"},\n",
    "    {\"role\": \"user\", \"content\": prompt}\n",
    "]\n",
    "\n",
    "response = openai.ChatCompletion.create(\n",
    "    model=\"gpt-3.5-turbo\",\n",
    "    messages=messages,\n",
    ")\n",
    "print(response.choices[0].message.content)"
   ]
  },
  {
   "cell_type": "markdown",
   "id": "b90b69cb",
   "metadata": {},
   "source": [
    "# 產生測試資料"
   ]
  },
  {
   "cell_type": "code",
   "execution_count": 19,
   "id": "cd4581f2",
   "metadata": {
    "scrolled": false
   },
   "outputs": [
    {
     "name": "stdout",
     "output_type": "stream",
     "text": [
      "Sure, here's an example of creating a pandas dataframe containing sales data:\n",
      "\n",
      "```python\n",
      "import pandas as pd\n",
      "\n",
      "# Define the sales data as a dictionary\n",
      "sales_data = {\n",
      "    'Product': ['Product A', 'Product B', 'Product C', 'Product A', 'Product B', 'Product C'],\n",
      "    'Region': ['North', 'North', 'North', 'South', 'South', 'South'],\n",
      "    'Quarter': ['Q1', 'Q1', 'Q1', 'Q1', 'Q1', 'Q1'],\n",
      "    'Sales': [10000, 15000, 12000, 8000, 11000, 9000]\n",
      "}\n",
      "\n",
      "# Create the dataframe from the sales data dictionary\n",
      "sales_df = pd.DataFrame(sales_data)\n",
      "\n",
      "# Display the dataframe\n",
      "print(sales_df)\n",
      "```\n",
      "\n",
      "This will output:\n",
      "\n",
      "```\n",
      "     Product Region Quarter  Sales\n",
      "0  Product A  North      Q1  10000\n",
      "1  Product B  North      Q1  15000\n",
      "2  Product C  North      Q1  12000\n",
      "3  Product A  South      Q1   8000\n",
      "4  Product B  South      Q1  11000\n",
      "5  Product C  South      Q1   9000\n",
      "```\n",
      "\n",
      "This dataframe contains sales data for three products (A, B, and C) in two regions (North and South) during the first quarter, with the corresponding sales figures. Of course, you can modify the data and columns to fit your specific needs.\n"
     ]
    }
   ],
   "source": [
    "prompt = \"\"\"\n",
    "# Create a pandas dataframe that contains sales data\n",
    "\"\"\"\n",
    "messages=[\n",
    "    {\"role\": \"system\", \"content\": \"You are a python expert\"},\n",
    "    {\"role\": \"user\", \"content\": prompt}\n",
    "]\n",
    "\n",
    "response = openai.ChatCompletion.create(\n",
    "    model=\"gpt-3.5-turbo\",\n",
    "    messages=messages,\n",
    ")\n",
    "print(response.choices[0].message.content)"
   ]
  },
  {
   "cell_type": "markdown",
   "id": "ba58ddb2",
   "metadata": {},
   "source": [
    "# 產生單元測試個案"
   ]
  },
  {
   "cell_type": "code",
   "execution_count": 21,
   "id": "0eb9f116",
   "metadata": {
    "scrolled": false
   },
   "outputs": [
    {
     "name": "stdout",
     "output_type": "stream",
     "text": [
      "I think the code you provided is incomplete. \n",
      "\n",
      "If the intention of the code is to define a function called `sum_numbers` that takes in two arguments `a` and `b` and returns the sum of those two numbers, then the code is correct so far.\n",
      "\n",
      "Here's an example unit test for the `sum_numbers` function using the `unittest` module:\n",
      "\n",
      "```\n",
      "import unittest\n",
      "\n",
      "class TestSumNumbers(unittest.TestCase):\n",
      "\n",
      "    def test_sum_numbers(self):\n",
      "        self.assertEqual(sum_numbers(1, 2), 3)\n",
      "        self.assertEqual(sum_numbers(-1, 1), 0)\n",
      "        self.assertEqual(sum_numbers(0, 0), 0)\n",
      "\n",
      "if __name__ == '__main__':\n",
      "    unittest.main()\n",
      "```\n",
      "\n",
      "This test will check if the `sum_numbers` function is correctly adding together the input arguments and returning the correct results.\n"
     ]
    }
   ],
   "source": [
    "prompt = \"\"\"\n",
    "def sum_numbers(a, b):\n",
    "    return a + b\n",
    "\n",
    "# Unit test\n",
    "def\n",
    "\"\"\"\n",
    "messages=[\n",
    "    {\"role\": \"system\", \"content\": \"You are a python expert\"},\n",
    "    {\"role\": \"user\", \"content\": prompt}\n",
    "]\n",
    "\n",
    "response = openai.ChatCompletion.create(\n",
    "    model=\"gpt-3.5-turbo\",\n",
    "    messages=messages,\n",
    ")\n",
    "print(response.choices[0].message.content)"
   ]
  },
  {
   "cell_type": "markdown",
   "id": "1ec6d399",
   "metadata": {},
   "source": [
    "### 驗證：unit_test.py"
   ]
  },
  {
   "cell_type": "markdown",
   "id": "fe48377e",
   "metadata": {},
   "source": [
    "# 除錯(Debug)"
   ]
  },
  {
   "cell_type": "code",
   "execution_count": 23,
   "id": "fc231852",
   "metadata": {
    "scrolled": true
   },
   "outputs": [
    {
     "name": "stdout",
     "output_type": "stream",
     "text": [
      "\n",
      "\n",
      "The previous function doesn't work because it is trying to concatenate a string ('abc') with two integers (a and b). This operation is not possible since you cannot add a string to an integer in Python.\n"
     ]
    }
   ],
   "source": [
    "prompt = \"\"\"\n",
    "def sum_numbers(a, b):\n",
    "    return a + b + 'abc'\n",
    "\n",
    "sum_numbers(1,2)\n",
    "\n",
    "# Explain why the previous function doesn't work.\n",
    "\"\"\"\n",
    "messages=[\n",
    "    {\"role\": \"system\", \"content\": \"You are a python expert\"},\n",
    "    {\"role\": \"user\", \"content\": prompt}\n",
    "]\n",
    "\n",
    "response = openai.ChatCompletion.create(\n",
    "    model=\"gpt-3.5-turbo\",\n",
    "    messages=messages,\n",
    ")\n",
    "print(response.choices[0].message.content)"
   ]
  },
  {
   "cell_type": "markdown",
   "id": "8c909df6",
   "metadata": {},
   "source": [
    "# 插入程式碼(Inserting code)"
   ]
  },
  {
   "cell_type": "code",
   "execution_count": 30,
   "id": "4fcca1f0",
   "metadata": {
    "scrolled": true
   },
   "outputs": [
    {
     "name": "stdout",
     "output_type": "stream",
     "text": [
      "There are a few issues with this code. First, the is_prime() function is not defined, so it needs to be implemented or imported from somewhere. Second, the return statement of the main function is not properly indented. Here's a corrected version of the code with some additional improvements:\n",
      "\n",
      "```\n",
      "def is_prime(n):\n",
      "    if n < 2:\n",
      "        return False\n",
      "    for i in range(2, int(n ** 0.5) + 1):\n",
      "        if n % i == 0:\n",
      "            return False\n",
      "    return True\n",
      "\n",
      "def get_largest_prime_factor(n):\n",
      "    if n < 2:\n",
      "        return False\n",
      "        \n",
      "    largest = 1\n",
      "    for j in range(2, n + 1):\n",
      "        if n % j == 0 and is_prime(j):\n",
      "            largest = j\n",
      "    return largest\n",
      "```\n",
      "\n",
      "Note that we're using the square root trick in the is_prime() function to reduce the number of iterations. We're also initializing the largest factor to 1 instead of 0, since 0 is not a prime factor. Additionally, we're returning False instead of None when the input is invalid, to make the function more explicit about its output.\n"
     ]
    }
   ],
   "source": [
    "prompt = '''\n",
    "def get_largest_prime_factor(n):\n",
    "    if n < 2:\n",
    "        return False\n",
    "        \n",
    "    largest = 1\n",
    "    for j in range(2, n + 1):\n",
    "        # please implement is_prime() function\n",
    "        if n % j == 0 and is_prime(j):\n",
    "    return largest\n",
    "    \n",
    "'''\n",
    "messages=[\n",
    "    {\"role\": \"system\", \"content\": \"You are a python expert\"},\n",
    "    {\"role\": \"user\", \"content\": prompt}\n",
    "]\n",
    "\n",
    "response = openai.ChatCompletion.create(\n",
    "    model=\"gpt-3.5-turbo\",\n",
    "    messages=messages,\n",
    ")\n",
    "print(response.choices[0].message.content)"
   ]
  },
  {
   "cell_type": "markdown",
   "id": "5271d00f",
   "metadata": {},
   "source": [
    "# 編輯程式碼(Editing code)"
   ]
  },
  {
   "cell_type": "code",
   "execution_count": 32,
   "id": "d0bdc3b7",
   "metadata": {
    "scrolled": true
   },
   "outputs": [
    {
     "name": "stdout",
     "output_type": "stream",
     "text": [
      "\n",
      "\n",
      "def fibonacci(num):\n",
      "    if num <= 0:\n",
      "        return None\n",
      "    elif num == 1:\n",
      "        return 0\n",
      "    elif num == 2:\n",
      "        return 1\n",
      "    else:\n",
      "        return fibonacci(num-1) + fibonacci(num-2)\n",
      "        \n",
      "# Now the function is recursive, it returns the nth number of the fibonacci sequence\n",
      "# for instance, fibonacci(5) returns 3. \n",
      "# To print the first ten fibonacci numbers, do this: \n",
      "for i in range(1, 11):\n",
      "    print(fibonacci(i))\n"
     ]
    }
   ],
   "source": [
    "prompt = '''\n",
    "def fibonacci(num):\n",
    "    a = 0\n",
    "    b = 1\n",
    "    if num ==1:\n",
    "       print(a)\n",
    "    else:\n",
    "        print(a)\n",
    "        print(b)\n",
    "        #the sequence starts with 0,1\n",
    "        for i in range(2,num):\n",
    "            c = a+b\n",
    "            a = b\n",
    "            b = c\n",
    "            print(c)\n",
    "\n",
    "fibonacci(10)\n",
    "\n",
    "# Refactor this function to be recursive\n",
    "'''\n",
    "messages=[\n",
    "    {\"role\": \"system\", \"content\": \"You are a python expert\"},\n",
    "    {\"role\": \"user\", \"content\": prompt}\n",
    "]\n",
    "\n",
    "response = openai.ChatCompletion.create(\n",
    "    model=\"gpt-3.5-turbo\",\n",
    "    messages=messages,\n",
    ")\n",
    "print(response.choices[0].message.content)"
   ]
  },
  {
   "cell_type": "markdown",
   "id": "6aba231c",
   "metadata": {},
   "source": [
    "# 插入註解"
   ]
  },
  {
   "cell_type": "code",
   "execution_count": 34,
   "id": "eec983a6",
   "metadata": {
    "scrolled": false
   },
   "outputs": [
    {
     "name": "stdout",
     "output_type": "stream",
     "text": [
      "\n",
      "\n",
      "This function calculates the Fibonacci number at a specified index. The Fibonacci sequence is a sequence of numbers in which each number is the sum of the two preceding ones, usually starting with 0 and 1.\n",
      "\n",
      "\n",
      "Parameters:\n",
      "- num: an integer representing the index of the Fibonacci number to be calculated. \n",
      "\n",
      "Returns:\n",
      "- The Fibonacci number at the specified index.\n",
      "\n",
      "- If the input is less than or equal to 0, the function returns None.\n",
      "\n",
      "- If the input is equal to 1, the function returns 0.\n",
      "\n",
      "- If the input is equal to 2, the function returns 1.\n",
      "\n",
      "- Otherwise, the function recursively calls itself to calculate the Fibonacci number at the previous two indices, then adds them together to get the Fibonacci number for the current index.\n"
     ]
    }
   ],
   "source": [
    "prompt = '''\n",
    "def fibonacci(num):\n",
    "    # Add documentation\n",
    "    if num <= 0:\n",
    "        return None\n",
    "    elif num == 1:\n",
    "        return 0\n",
    "    elif num == 2:\n",
    "        return 1\n",
    "    else:\n",
    "        return fibonacci(num-1) + fibonacci(num-2)\n",
    "\n",
    "'''\n",
    "messages=[\n",
    "    {\"role\": \"system\", \"content\": \"You are a python expert\"},\n",
    "    {\"role\": \"user\", \"content\": prompt}\n",
    "]\n",
    "\n",
    "response = openai.ChatCompletion.create(\n",
    "    model=\"gpt-3.5-turbo\",\n",
    "    messages=messages,\n",
    ")\n",
    "print(response.choices[0].message.content)"
   ]
  },
  {
   "cell_type": "markdown",
   "id": "cd6ed894",
   "metadata": {},
   "source": [
    "# 產生SQL指令"
   ]
  },
  {
   "cell_type": "code",
   "execution_count": 5,
   "id": "4aae2133",
   "metadata": {
    "scrolled": true
   },
   "outputs": [
    {
     "name": "stdout",
     "output_type": "stream",
     "text": [
      "SELECT * FROM customers WHERE State='Texas' AND FirstName='Jane'\n"
     ]
    }
   ],
   "source": [
    "prompt = \"\"\"\n",
    "Table customers, columns = [CustomerId, FirstName, LastName, Company, Address, City, State, Country, \n",
    "PostalCode, Phone, Fax, Email, SupportRepId]\n",
    "Create a MySQL query for all customers in Texas named Jane\n",
    "query =\n",
    "\"\"\"\n",
    "messages=[\n",
    "    {\"role\": \"system\", \"content\": \"You are a database expert\"},\n",
    "    {\"role\": \"user\", \"content\": prompt}\n",
    "]\n",
    "\n",
    "response = openai.ChatCompletion.create(\n",
    "    model=\"gpt-3.5-turbo\",\n",
    "    messages=messages,\n",
    ")\n",
    "print(response.choices[0].message.content)"
   ]
  },
  {
   "cell_type": "markdown",
   "id": "2fd2080a",
   "metadata": {},
   "source": [
    "# 提示資料庫結構(Schema)，請ChatGPT撰寫SQL"
   ]
  },
  {
   "cell_type": "code",
   "execution_count": 8,
   "id": "27ee2924",
   "metadata": {
    "scrolled": true
   },
   "outputs": [
    {
     "name": "stdout",
     "output_type": "stream",
     "text": [
      "SELECT albums.Title \n",
      "FROM albums \n",
      "JOIN artists ON artists.ArtistId = albums.ArtistId \n",
      "WHERE artists.Name = 'Adele';\n"
     ]
    }
   ],
   "source": [
    "prompt = \"\"\"\n",
    "# Table albums, columns = [AlbumId, Title, ArtistId]\n",
    "# Table artists, columns = [ArtistId, Name]\n",
    "# Table media_types, columns = [MediaTypeId, Name]\n",
    "# Table playlists, columns = [PlaylistId, Name]\n",
    "# Table playlist_track, columns = [PlaylistId, TrackId]\n",
    "# Table tracks, columns = [TrackId, Name, AlbumId, MediaTypeId, GenreId, Composer, Milliseconds, Bytes, UnitPrice]\n",
    "\n",
    "# Create a query for all albums by Adele\n",
    "\"\"\"\n",
    "messages=[\n",
    "    {\"role\": \"system\", \"content\": \"You are a database expert\"},\n",
    "    {\"role\": \"user\", \"content\": prompt}\n",
    "]\n",
    "\n",
    "response = openai.ChatCompletion.create(\n",
    "    model=\"gpt-3.5-turbo\",\n",
    "    messages=messages,\n",
    ")\n",
    "print(response.choices[0].message.content)"
   ]
  },
  {
   "cell_type": "code",
   "execution_count": 10,
   "id": "01e7aaf4",
   "metadata": {
    "scrolled": false
   },
   "outputs": [
    {
     "name": "stdout",
     "output_type": "stream",
     "text": [
      "# first use SQL ONLY\n",
      "data = csv.reader(open(\"chinook/demo.playlist_track.csv\"))\n",
      "\n",
      "for row in data:\n",
      "    if row[0] == \"Milliseconds\": # fix empty strings\n",
      "        row[0] = \"\"\n",
      "\n",
      "query = \"\"\"\n",
      "SELECT art.name\n",
      "FROM tracks AS trs\n",
      "LEFT JOIN artists AS art ON art.artistid=trs.composer\n",
      "GROUP BY art.name\n",
      "ORDER BY trs.UnitPrice\n",
      "LIMIT 1\n",
      "\"\"\"\n",
      "\n",
      "# results = sql.exe(CRUD) \n",
      "# saved results\n",
      "\n",
      "# note connect\n",
      "connection = sqlite3.connect(\"Chinook_Sqlite.sqlite\")\n",
      "cursor = connection.cursor()\n",
      "# execute our query\n",
      "cursor.execute(query)\n",
      "results = cursor.fetchall()\n",
      "\n",
      "# output our query results\n",
      "count_albums_by_adele = \"\"\n",
      "# for item in results:\n",
      "#     print(item[0]) # prints the top cheapest composer\n",
      "count_milliseconds_by_adele = 0\n",
      "count_name_by_adele = 0\n",
      "# for item in results:\n",
      "#     count = item[1]\n",
      "#     print(type(count))\n",
      "lowest_track_price_by_adele = 0\n",
      "lowest\n"
     ]
    }
   ],
   "source": [
    "response = openai.Completion.create(\n",
    "    model=\"code-davinci-002\",\n",
    "    prompt=prompt,\n",
    "    max_tokens=300,\n",
    ")\n",
    "print(response.choices[0].text)"
   ]
  },
  {
   "cell_type": "markdown",
   "id": "57a4b7fe",
   "metadata": {},
   "source": [
    "# 解釋 SQL 指令"
   ]
  },
  {
   "cell_type": "code",
   "execution_count": 20,
   "id": "70ab88b4",
   "metadata": {
    "scrolled": true
   },
   "outputs": [
    {
     "name": "stdout",
     "output_type": "stream",
     "text": [
      "This SQL query selects the names of distinct departments that have more than 10 employees who received salary payments in June 2020. \n",
      "\n",
      "It achieves this by joining the \"department\", \"employee\", and \"salary_payments\" tables based on their respective foreign keys, so that it can retrieve the names of departments (via department.name) along with the number of employees in each department who received salary payments within the specified date range (via COUNT(employee.id)).\n",
      " \n",
      "The query then groups the results by the department name and applies a condition (HAVING COUNT(employee.id) > 10) to only return the departments with more than 10 employees who received salary payments in June 2020.\n"
     ]
    }
   ],
   "source": [
    "prompt = \"\"\"\n",
    "SELECT DISTINCT department.name\n",
    "FROM department\n",
    "JOIN employee ON department.id = employee.department_id\n",
    "JOIN salary_payments ON employee.id = salary_payments.employee_id\n",
    "WHERE salary_payments.date BETWEEN '2020-06-01' AND '2020-06-30'\n",
    "GROUP BY department.name\n",
    "HAVING COUNT(employee.id) > 10;\n",
    "-- Explanation of the above query in human readable format\n",
    "--\n",
    "\"\"\"\n",
    "messages=[\n",
    "    {\"role\": \"system\", \"content\": \"You are a database expert\"},\n",
    "    {\"role\": \"user\", \"content\": prompt}\n",
    "]\n",
    "\n",
    "response = openai.ChatCompletion.create(\n",
    "    model=\"gpt-3.5-turbo\",\n",
    "    messages=messages,\n",
    ")\n",
    "print(response.choices[0].message.content)"
   ]
  },
  {
   "cell_type": "code",
   "execution_count": null,
   "id": "20619bef",
   "metadata": {},
   "outputs": [],
   "source": []
  }
 ],
 "metadata": {
  "kernelspec": {
   "display_name": "Python 3 (ipykernel)",
   "language": "python",
   "name": "python3"
  },
  "language_info": {
   "codemirror_mode": {
    "name": "ipython",
    "version": 3
   },
   "file_extension": ".py",
   "mimetype": "text/x-python",
   "name": "python",
   "nbconvert_exporter": "python",
   "pygments_lexer": "ipython3",
   "version": "3.9.13"
  }
 },
 "nbformat": 4,
 "nbformat_minor": 5
}
