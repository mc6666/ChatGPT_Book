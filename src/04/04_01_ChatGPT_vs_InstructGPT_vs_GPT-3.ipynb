{
 "cells": [
  {
   "cell_type": "code",
   "execution_count": 2,
   "id": "d14cdc8d",
   "metadata": {},
   "outputs": [
    {
     "data": {
      "text/plain": [
       "35352"
      ]
     },
     "execution_count": 2,
     "metadata": {},
     "output_type": "execute_result"
    }
   ],
   "source": [
    "ord('記')"
   ]
  },
  {
   "cell_type": "markdown",
   "id": "428edced",
   "metadata": {},
   "source": [
    "# ChatGPT、InstructGPT、GPT-3 差異比較"
   ]
  },
  {
   "cell_type": "code",
   "execution_count": 1,
   "id": "4138ec04",
   "metadata": {},
   "outputs": [
    {
     "name": "stdout",
     "output_type": "stream",
     "text": [
      "Collecting openai\n",
      "  Downloading openai-0.27.2-py3-none-any.whl (70 kB)\n",
      "     -------------------------------------- 70.1/70.1 kB 767.4 kB/s eta 0:00:00\n",
      "Requirement already satisfied: requests>=2.20 in c:\\users\\mikec\\anaconda3\\lib\\site-packages (from openai) (2.28.1)\n",
      "Collecting aiohttp\n",
      "  Downloading aiohttp-3.8.4-cp39-cp39-win_amd64.whl (323 kB)\n",
      "     -------------------------------------- 323.6/323.6 kB 2.0 MB/s eta 0:00:00\n",
      "Requirement already satisfied: tqdm in c:\\users\\mikec\\anaconda3\\lib\\site-packages (from openai) (4.64.1)\n",
      "Requirement already satisfied: certifi>=2017.4.17 in c:\\users\\mikec\\anaconda3\\lib\\site-packages (from requests>=2.20->openai) (2022.9.14)\n",
      "Requirement already satisfied: urllib3<1.27,>=1.21.1 in c:\\users\\mikec\\anaconda3\\lib\\site-packages (from requests>=2.20->openai) (1.26.11)\n",
      "Requirement already satisfied: idna<4,>=2.5 in c:\\users\\mikec\\anaconda3\\lib\\site-packages (from requests>=2.20->openai) (3.3)\n",
      "Requirement already satisfied: charset-normalizer<3,>=2 in c:\\users\\mikec\\anaconda3\\lib\\site-packages (from requests>=2.20->openai) (2.0.4)\n",
      "Collecting multidict<7.0,>=4.5\n",
      "  Downloading multidict-6.0.4-cp39-cp39-win_amd64.whl (28 kB)\n",
      "Collecting yarl<2.0,>=1.0\n",
      "  Downloading yarl-1.8.2-cp39-cp39-win_amd64.whl (56 kB)\n",
      "     ---------------------------------------- 56.8/56.8 kB 2.9 MB/s eta 0:00:00\n",
      "Collecting frozenlist>=1.1.1\n",
      "  Downloading frozenlist-1.3.3-cp39-cp39-win_amd64.whl (34 kB)\n",
      "Requirement already satisfied: attrs>=17.3.0 in c:\\users\\mikec\\anaconda3\\lib\\site-packages (from aiohttp->openai) (21.4.0)\n",
      "Collecting aiosignal>=1.1.2\n",
      "  Downloading aiosignal-1.3.1-py3-none-any.whl (7.6 kB)\n",
      "Collecting async-timeout<5.0,>=4.0.0a3\n",
      "  Using cached async_timeout-4.0.2-py3-none-any.whl (5.8 kB)\n",
      "Requirement already satisfied: colorama in c:\\users\\mikec\\anaconda3\\lib\\site-packages (from tqdm->openai) (0.4.5)\n",
      "Installing collected packages: multidict, frozenlist, async-timeout, yarl, aiosignal, aiohttp, openai\n",
      "Successfully installed aiohttp-3.8.4 aiosignal-1.3.1 async-timeout-4.0.2 frozenlist-1.3.3 multidict-6.0.4 openai-0.27.2 yarl-1.8.2\n"
     ]
    }
   ],
   "source": [
    "!pip install openai -U"
   ]
  },
  {
   "cell_type": "markdown",
   "id": "a064de35",
   "metadata": {},
   "source": [
    "## 載入套件"
   ]
  },
  {
   "cell_type": "code",
   "execution_count": 2,
   "id": "ed8a6ce6",
   "metadata": {},
   "outputs": [],
   "source": [
    "import os\n",
    "import openai\n",
    "import requests\n",
    "import os, json"
   ]
  },
  {
   "cell_type": "markdown",
   "id": "f09c1f96",
   "metadata": {},
   "source": [
    "## 測試問題"
   ]
  },
  {
   "cell_type": "code",
   "execution_count": 3,
   "id": "62f0531c",
   "metadata": {},
   "outputs": [],
   "source": [
    "# 以簡短句子向六歲孩童說明登陸月球\n",
    "prompt = 'Explain the moon landing to a 6 year old in a few sentences.'\n",
    "\n",
    "# ChatML\n",
    "messages=[\n",
    "    {\"role\": \"system\", \"content\": \"You are a scientist.\"},\n",
    "#     {\"role\": \"user\", \"content\": \"Who won the world series in 2020?\"},\n",
    "#     {\"role\": \"assistant\", \"content\": \"The Los Angeles Dodgers won the World Series in 2020.\"},\n",
    "    {\"role\": \"user\", \"content\": prompt}\n",
    "]"
   ]
  },
  {
   "cell_type": "markdown",
   "id": "3a56060e",
   "metadata": {},
   "source": [
    "## ChatGPT"
   ]
  },
  {
   "cell_type": "code",
   "execution_count": 4,
   "id": "f3eee56f",
   "metadata": {},
   "outputs": [
    {
     "data": {
      "text/plain": [
       "\"\\n\\nIn 1969, humans built a spaceship called Apollo 11 and sent three astronauts named Neil Armstrong, Buzz Aldrin, and Michael Collins to fly to the moon. Neil and Buzz left the spaceship and walked on the moon's surface for a few hours!\""
      ]
     },
     "execution_count": 4,
     "metadata": {},
     "output_type": "execute_result"
    }
   ],
   "source": [
    "# openai ver 0.27 or above \n",
    "response = openai.ChatCompletion.create(\n",
    "    model=\"gpt-3.5-turbo\",\n",
    "    messages=messages,\n",
    ")\n",
    "response.choices[0].message.content"
   ]
  },
  {
   "cell_type": "markdown",
   "id": "2c133c4a",
   "metadata": {},
   "source": [
    "## InstructGPT"
   ]
  },
  {
   "cell_type": "code",
   "execution_count": 11,
   "id": "f23dc5ef",
   "metadata": {},
   "outputs": [
    {
     "name": "stdout",
     "output_type": "stream",
     "text": [
      "\n",
      "\n",
      "The moon landing was when people from Earth flew in a special spaceship to the moon and walked on its surface. They took pictures and gathered rocks to bring back home. It was a very big adventure!\n"
     ]
    }
   ],
   "source": [
    "response = openai.Completion.create(\n",
    "    model=\"text-davinci-003\",\n",
    "    prompt=prompt,\n",
    "    temperature=0.6,\n",
    "    max_tokens=100,\n",
    ")\n",
    "print(response.choices[0].text)"
   ]
  },
  {
   "cell_type": "markdown",
   "id": "896bfc01",
   "metadata": {},
   "source": [
    "## GPT-3"
   ]
  },
  {
   "cell_type": "code",
   "execution_count": 13,
   "id": "7970f001",
   "metadata": {},
   "outputs": [
    {
     "name": "stdout",
     "output_type": "stream",
     "text": [
      "\n",
      "\n",
      "On July 20, 1969, the United States of America landed two astronauts on the moon. Neil Armstrong and Buzz Aldrin became the first humans to walk on the moon.\n"
     ]
    }
   ],
   "source": [
    "response = openai.Completion.create(\n",
    "    model=\"text-curie-001\",\n",
    "    prompt=prompt,\n",
    "    temperature=0.6,\n",
    "    max_tokens=100,\n",
    ")\n",
    "print(response.choices[0].text)"
   ]
  },
  {
   "cell_type": "code",
   "execution_count": null,
   "id": "d45b2d2a",
   "metadata": {},
   "outputs": [],
   "source": []
  }
 ],
 "metadata": {
  "kernelspec": {
   "display_name": "Python 3 (ipykernel)",
   "language": "python",
   "name": "python3"
  },
  "language_info": {
   "codemirror_mode": {
    "name": "ipython",
    "version": 3
   },
   "file_extension": ".py",
   "mimetype": "text/x-python",
   "name": "python",
   "nbconvert_exporter": "python",
   "pygments_lexer": "ipython3",
   "version": "3.9.13"
  }
 },
 "nbformat": 4,
 "nbformat_minor": 5
}
